{
 "cells": [
  {
   "cell_type": "code",
   "execution_count": 3,
   "metadata": {},
   "outputs": [],
   "source": [
    "import numpy as np\n",
    "import torch\n",
    "import pandas as pd\n",
    "import os\n",
    "from PIL import Image\n",
    "from torchvision import transforms"
   ]
  },
  {
   "cell_type": "code",
   "execution_count": 4,
   "metadata": {},
   "outputs": [],
   "source": [
    "dataset_dir = \"./mnist/\"\n",
    "metadata_file = \"mnist.csv\"\n",
    "metadata_path = os.path.join(dataset_dir, metadata_file)\n",
    "\n",
    "metadata = pd.read_csv(metadata_path)"
   ]
  },
  {
   "cell_type": "code",
   "execution_count": 5,
   "metadata": {},
   "outputs": [
    {
     "data": {
      "text/plain": [
       "'00000.png'"
      ]
     },
     "execution_count": 5,
     "metadata": {},
     "output_type": "execute_result"
    }
   ],
   "source": [
    "metadata[\"filename\"][0]"
   ]
  },
  {
   "cell_type": "code",
   "execution_count": 6,
   "metadata": {},
   "outputs": [],
   "source": [
    "# create a tensor with all the images\n",
    "images = []\n",
    "transform = transforms.ToTensor()\n",
    "\n",
    "for path in metadata[\"filename\"]:\n",
    "    img = Image.open(os.path.join(dataset_dir, path))\n",
    "    tensor_image = transform(img)\n",
    "    images.append(tensor_image)\n",
    "\n",
    "all_images = torch.stack(images)"
   ]
  },
  {
   "cell_type": "code",
   "execution_count": 7,
   "metadata": {},
   "outputs": [
    {
     "data": {
      "text/plain": [
       "torch.Size([70000, 1, 28, 28])"
      ]
     },
     "execution_count": 7,
     "metadata": {},
     "output_type": "execute_result"
    }
   ],
   "source": [
    "all_images.size()"
   ]
  },
  {
   "cell_type": "code",
   "execution_count": 8,
   "metadata": {},
   "outputs": [],
   "source": [
    "# normalize the all_images tensor to have zero mean and 1 std dev\n",
    "all_images = all_images.float()\n",
    "mean = all_images.mean()\n",
    "std = all_images.std()\n",
    "all_images = (all_images - mean) / std"
   ]
  },
  {
   "cell_type": "code",
   "execution_count": 9,
   "metadata": {},
   "outputs": [
    {
     "name": "stdout",
     "output_type": "stream",
     "text": [
      "mean: 0.13092535734176636, std: 0.30844852328300476\n"
     ]
    }
   ],
   "source": [
    "print(f\"mean: {mean}, std: {std}\")"
   ]
  },
  {
   "cell_type": "code",
   "execution_count": 10,
   "metadata": {},
   "outputs": [],
   "source": [
    "import torch.nn.functional as F"
   ]
  },
  {
   "cell_type": "code",
   "execution_count": 11,
   "metadata": {},
   "outputs": [],
   "source": [
    "# upsample the images to 32x32\n",
    "upsampled_images = F.interpolate(all_images, size=32)"
   ]
  },
  {
   "cell_type": "code",
   "execution_count": 12,
   "metadata": {},
   "outputs": [
    {
     "data": {
      "text/plain": [
       "torch.Size([70000, 1, 32, 32])"
      ]
     },
     "execution_count": 12,
     "metadata": {},
     "output_type": "execute_result"
    }
   ],
   "source": [
    "upsampled_images.size()"
   ]
  },
  {
   "cell_type": "code",
   "execution_count": 13,
   "metadata": {},
   "outputs": [],
   "source": [
    "import matplotlib.pyplot as plt"
   ]
  },
  {
   "cell_type": "code",
   "execution_count": 14,
   "metadata": {},
   "outputs": [
    {
     "data": {
      "text/plain": [
       "<matplotlib.image.AxesImage at 0x7f1b8cb05c30>"
      ]
     },
     "execution_count": 14,
     "metadata": {},
     "output_type": "execute_result"
    },
    {
     "data": {
      "image/png": "[encoded data removed]",
      "text/plain": [
       "<Figure size 640x480 with 1 Axes>"
      ]
     },
     "metadata": {},
     "output_type": "display_data"
    }
   ],
   "source": [
    "plt.imshow(upsampled_images[1].permute(1, 2, 0))"
   ]
  },
  {
   "cell_type": "code",
   "execution_count": 15,
   "metadata": {},
   "outputs": [
    {
     "data": {
      "text/plain": [
       "<matplotlib.image.AxesImage at 0x7f1b8c9d4220>"
      ]
     },
     "execution_count": 15,
     "metadata": {},
     "output_type": "execute_result"
    },
    {
     "data": {
      "image/png": "[encoded data removed]",
      "text/plain": [
       "<Figure size 640x480 with 1 Axes>"
      ]
     },
     "metadata": {},
     "output_type": "display_data"
    }
   ],
   "source": [
    "plt.imshow(all_images[1].permute(1, 2, 0))"
   ]
  },
  {
   "cell_type": "code",
   "execution_count": 2,
   "metadata": {},
   "outputs": [],
   "source": [
    "from src.model import Unet"
   ]
  },
  {
   "cell_type": "code",
   "execution_count": 16,
   "metadata": {},
   "outputs": [
    {
     "name": "stdout",
     "output_type": "stream",
     "text": [
      "Sat Dec 30 13:13:45 2023       \n",
      "+-----------------------------------------------------------------------------+\n",
      "| NVIDIA-SMI 525.85.12    Driver Version: 525.85.12    CUDA Version: 12.0     |\n",
      "|-------------------------------+----------------------+----------------------+\n",
      "| GPU  Name        Persistence-M| Bus-Id        Disp.A | Volatile Uncorr. ECC |\n",
      "| Fan  Temp  Perf  Pwr:Usage/Cap|         Memory-Usage | GPU-Util  Compute M. |\n",
      "|                               |                      |               MIG M. |\n",
      "|===============================+======================+======================|\n",
      "|   0  Tesla T4            On   | 00000000:00:1E.0 Off |                    0 |\n",
      "| N/A   22C    P8     8W /  70W |      0MiB / 15360MiB |      0%      Default |\n",
      "|                               |                      |                  N/A |\n",
      "+-------------------------------+----------------------+----------------------+\n",
      "                                                                               \n",
      "+-----------------------------------------------------------------------------+\n",
      "| Processes:                                                                  |\n",
      "|  GPU   GI   CI        PID   Type   Process name                  GPU Memory |\n",
      "|        ID   ID                                                   Usage      |\n",
      "|=============================================================================|\n",
      "|  No running processes found                                                 |\n",
      "+-----------------------------------------------------------------------------+\n"
     ]
    }
   ],
   "source": [
    "!nvidia-smi"
   ]
  },
  {
   "cell_type": "code",
   "execution_count": 24,
   "metadata": {},
   "outputs": [
    {
     "name": "stdout",
     "output_type": "stream",
     "text": [
      "training batch 0\n"
     ]
    },
    {
     "ename": "RuntimeError",
     "evalue": "Expected all tensors to be on the same device, but found at least two devices, cuda:0 and cpu! (when checking argument for argument index in method wrapper_CUDA__index_select)",
     "output_type": "error",
     "traceback": [
      "\u001b[0;31m---------------------------------------------------------------------------\u001b[0m",
      "\u001b[0;31mRuntimeError\u001b[0m                              Traceback (most recent call last)",
      "\u001b[1;32m/home/ubuntu/projects/diffusion_models/naive/run_mnist.ipynb Cell 16\u001b[0m line \u001b[0;36m9\n\u001b[1;32m     <a href='vscode-notebook-cell://ssh-remote%2Bec2-3-142-245-208.us-east-2.compute.amazonaws.com/home/ubuntu/projects/diffusion_models/naive/run_mnist.ipynb#X20sdnNjb2RlLXJlbW90ZQ%3D%3D?line=90'>91</a>\u001b[0m alpha_ts \u001b[39m=\u001b[39m alphas[times]\u001b[39m.\u001b[39mreshape(\u001b[39m-\u001b[39m\u001b[39m1\u001b[39m, \u001b[39m1\u001b[39m, \u001b[39m1\u001b[39m, \u001b[39m1\u001b[39m)\n\u001b[1;32m     <a href='vscode-notebook-cell://ssh-remote%2Bec2-3-142-245-208.us-east-2.compute.amazonaws.com/home/ubuntu/projects/diffusion_models/naive/run_mnist.ipynb#X20sdnNjb2RlLXJlbW90ZQ%3D%3D?line=91'>92</a>\u001b[0m x_ts \u001b[39m=\u001b[39m torch\u001b[39m.\u001b[39msqrt(alpha_ts) \u001b[39m*\u001b[39m data \u001b[39m+\u001b[39m torch\u001b[39m.\u001b[39msqrt(\u001b[39m1\u001b[39m \u001b[39m-\u001b[39m alpha_ts) \u001b[39m*\u001b[39m noise\n\u001b[0;32m---> <a href='vscode-notebook-cell://ssh-remote%2Bec2-3-142-245-208.us-east-2.compute.amazonaws.com/home/ubuntu/projects/diffusion_models/naive/run_mnist.ipynb#X20sdnNjb2RlLXJlbW90ZQ%3D%3D?line=92'>93</a>\u001b[0m pred \u001b[39m=\u001b[39m model(x_ts, times)\n\u001b[1;32m     <a href='vscode-notebook-cell://ssh-remote%2Bec2-3-142-245-208.us-east-2.compute.amazonaws.com/home/ubuntu/projects/diffusion_models/naive/run_mnist.ipynb#X20sdnNjb2RlLXJlbW90ZQ%3D%3D?line=93'>94</a>\u001b[0m loss_vals \u001b[39m=\u001b[39m loss_fn(pred, noise)\n\u001b[1;32m     <a href='vscode-notebook-cell://ssh-remote%2Bec2-3-142-245-208.us-east-2.compute.amazonaws.com/home/ubuntu/projects/diffusion_models/naive/run_mnist.ipynb#X20sdnNjb2RlLXJlbW90ZQ%3D%3D?line=94'>95</a>\u001b[0m optimizer\u001b[39m.\u001b[39mstep()\n",
      "File \u001b[0;32m/opt/conda/envs/pytorch/lib/python3.10/site-packages/torch/nn/modules/module.py:1501\u001b[0m, in \u001b[0;36mModule._call_impl\u001b[0;34m(self, *args, **kwargs)\u001b[0m\n\u001b[1;32m   1496\u001b[0m \u001b[39m# If we don't have any hooks, we want to skip the rest of the logic in\u001b[39;00m\n\u001b[1;32m   1497\u001b[0m \u001b[39m# this function, and just call forward.\u001b[39;00m\n\u001b[1;32m   1498\u001b[0m \u001b[39mif\u001b[39;00m \u001b[39mnot\u001b[39;00m (\u001b[39mself\u001b[39m\u001b[39m.\u001b[39m_backward_hooks \u001b[39mor\u001b[39;00m \u001b[39mself\u001b[39m\u001b[39m.\u001b[39m_backward_pre_hooks \u001b[39mor\u001b[39;00m \u001b[39mself\u001b[39m\u001b[39m.\u001b[39m_forward_hooks \u001b[39mor\u001b[39;00m \u001b[39mself\u001b[39m\u001b[39m.\u001b[39m_forward_pre_hooks\n\u001b[1;32m   1499\u001b[0m         \u001b[39mor\u001b[39;00m _global_backward_pre_hooks \u001b[39mor\u001b[39;00m _global_backward_hooks\n\u001b[1;32m   1500\u001b[0m         \u001b[39mor\u001b[39;00m _global_forward_hooks \u001b[39mor\u001b[39;00m _global_forward_pre_hooks):\n\u001b[0;32m-> 1501\u001b[0m     \u001b[39mreturn\u001b[39;00m forward_call(\u001b[39m*\u001b[39;49margs, \u001b[39m*\u001b[39;49m\u001b[39m*\u001b[39;49mkwargs)\n\u001b[1;32m   1502\u001b[0m \u001b[39m# Do not call functions when jit is used\u001b[39;00m\n\u001b[1;32m   1503\u001b[0m full_backward_hooks, non_full_backward_hooks \u001b[39m=\u001b[39m [], []\n",
      "File \u001b[0;32m~/projects/diffusion_models/naive/src/model.py:212\u001b[0m, in \u001b[0;36mUnet.forward\u001b[0;34m(self, x, t)\u001b[0m\n\u001b[1;32m    210\u001b[0m t_emb: torch\u001b[39m.\u001b[39mTensor \u001b[39m=\u001b[39m \u001b[39mself\u001b[39m\u001b[39m.\u001b[39mtimestep_embedding\n\u001b[1;32m    211\u001b[0m t_emb \u001b[39m=\u001b[39m \u001b[39mself\u001b[39m\u001b[39m.\u001b[39mlearnable_embedding_block(t_emb)\n\u001b[0;32m--> 212\u001b[0m t_emb \u001b[39m=\u001b[39m t_emb\u001b[39m.\u001b[39;49mindex_select(\u001b[39m0\u001b[39;49m, t\u001b[39m.\u001b[39;49mview(\u001b[39m-\u001b[39;49m\u001b[39m1\u001b[39;49m))\u001b[39m.\u001b[39mview(t\u001b[39m.\u001b[39msize(\u001b[39m0\u001b[39m), t\u001b[39m.\u001b[39msize(\u001b[39m1\u001b[39m), \u001b[39m-\u001b[39m\u001b[39m1\u001b[39m)\n\u001b[1;32m    214\u001b[0m x \u001b[39m=\u001b[39m \u001b[39mself\u001b[39m\u001b[39m.\u001b[39mdownblocks(x, t_emb)\n\u001b[1;32m    215\u001b[0m h \u001b[39m=\u001b[39m \u001b[39mself\u001b[39m\u001b[39m.\u001b[39mattn(h, h, h)[\u001b[39m0\u001b[39m]\n",
      "\u001b[0;31mRuntimeError\u001b[0m: Expected all tensors to be on the same device, but found at least two devices, cuda:0 and cpu! (when checking argument for argument index in method wrapper_CUDA__index_select)"
     ]
    }
   ],
   "source": [
    "from typing import Tuple\n",
    "\n",
    "import torch\n",
    "import torch.nn as nn\n",
    "import torch.nn.functional as F\n",
    "import torch.optim as optim\n",
    "from torch.utils.data import Dataset\n",
    "from torch.utils.data import DataLoader\n",
    "\n",
    "import numpy as np\n",
    "import numpy.typing as npt\n",
    "\n",
    "\n",
    "T: int = 1000\n",
    "beta_1: float = 1e-4\n",
    "beta_T: float = 0.02\n",
    "# following 3 for mnist\n",
    "in_c: int = 1\n",
    "in_h: int = 32\n",
    "in_w: int = 32\n",
    "\n",
    "lr: float = 6 * 1e-4\n",
    "n_epoch: int = 2\n",
    "batch_size: int = 32\n",
    "\n",
    "device = torch.device(\"cpu\")\n",
    "if torch.cuda.is_available():\n",
    "    device = torch.device(\"cuda\")\n",
    "\n",
    "\n",
    "def get_beta_t(t: int) -> float:\n",
    "    assert 1 <= t and t <= T, f\"time index {t} must be in range [1, {T}]\"\n",
    "    return (beta_1 * (T - t) + beta_T * (t - 1)) / (T - 1)\n",
    "\n",
    "\n",
    "betas: npt.NDArray[np.float_] = np.array([get_beta_t(t) for t in range(1, T + 1)])\n",
    "alphas: torch.Tensor = torch.from_numpy(np.cumprod(1 - betas))\n",
    "alphas = alphas.to(device=device)\n",
    "\n",
    "\n",
    "class DiffusionTrainingDataset(Dataset):\n",
    "    def __init__(self, data: torch.Tensor):\n",
    "        # assume that the input data has already been preprocessed into shape (N, in_c, in_h, in_w)\n",
    "        assert data.ndim == 4 and data.shape[1:] == (in_c, in_h, in_w)\n",
    "        # using mnist right now, can just load the whole dataset to cuda\n",
    "        self.data = data.to(device=device)\n",
    "\n",
    "    def __len__(self):\n",
    "        return len(self.data)\n",
    "\n",
    "    def __getitem__(\n",
    "        self, idx: int\n",
    "    ) -> Tuple[npt.NDArray[np.float_], npt.NDArray[np.float_], int]:\n",
    "        \"\"\"\n",
    "        return the i-th data, along with a random normal of same shape, and a random time step in {1, ..., T}\n",
    "        \"\"\"\n",
    "        return (\n",
    "            self.data[idx, ...],\n",
    "            torch.randn((in_c, in_h, in_w), device=device),\n",
    "            torch.randint(1, T + 1, (1,)),\n",
    "        )\n",
    "\n",
    "\n",
    "# TODO substitute with some actual data\n",
    "train_dataloader = DataLoader(\n",
    "    DiffusionTrainingDataset(upsampled_images),\n",
    "    batch_size=batch_size,\n",
    "    shuffle=True,\n",
    ")\n",
    "\n",
    "model = Unet(\n",
    "    c_start=in_c,\n",
    ")\n",
    "model.to(device=device)\n",
    "\n",
    "loss_fn = F.mse_loss\n",
    "optimizer = optim.Adam(model.parameters(), lr=lr)\n",
    "\n",
    "model.train()\n",
    "for i in range(n_epoch):\n",
    "    for j, batch in enumerate(train_dataloader):\n",
    "        print(f\"training batch {j}\")\n",
    "        data, noise, times = batch\n",
    "        #data, noise, times = (\n",
    "        #    torch.from_numpy(data),\n",
    "        #    torch.from_numpy(noise),\n",
    "        #    torch.from_numpy(times),\n",
    "        #)\n",
    "        #data, noise, times = data.to(device), noise.to(device), times.to(device)\n",
    "        optimizer.zero_grad()\n",
    "        alpha_ts = alphas[times].reshape(-1, 1, 1, 1)\n",
    "        x_ts = torch.sqrt(alpha_ts) * data + torch.sqrt(1 - alpha_ts) * noise\n",
    "        print(f\"x_ts on device {x_ts.device}, data on device {data.device}, noise on device {noise.device}, times on device {times.device}\")\n",
    "        pred = model(x_ts, times)\n",
    "        loss_vals = loss_fn(pred, noise)\n",
    "        optimizer.step()\n",
    "    print(f\"finished epoch {i}\")\n",
    "\n",
    "# TODO save the model when we actually have a real model\n",
    "# torch.save(model.state_dict(), \"model.pth\")"
   ]
  },
  {
   "cell_type": "code",
   "execution_count": null,
   "metadata": {},
   "outputs": [],
   "source": []
  }
 ],
 "metadata": {
  "kernelspec": {
   "display_name": "Python 3",
   "language": "python",
   "name": "python3"
  },
  "language_info": {
   "codemirror_mode": {
    "name": "ipython",
    "version": 3
   },
   "file_extension": ".py",
   "mimetype": "text/x-python",
   "name": "python",
   "nbconvert_exporter": "python",
   "pygments_lexer": "ipython3",
   "version": "3.10.12"
  }
 },
 "nbformat": 4,
 "nbformat_minor": 2
}
