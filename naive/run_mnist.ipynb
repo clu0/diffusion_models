{
 "cells": [
  {
   "cell_type": "code",
   "execution_count": 5,
   "metadata": {},
   "outputs": [],
   "source": [
    "import os"
   ]
  },
  {
   "cell_type": "code",
   "execution_count": 6,
   "metadata": {},
   "outputs": [],
   "source": [
    "os.environ[\"CUDA_LAUNCH_BLOCKING\"] = \"1\""
   ]
  },
  {
   "cell_type": "code",
   "execution_count": 7,
   "metadata": {},
   "outputs": [],
   "source": [
    "import numpy as np\n",
    "import torch\n",
    "import pandas as pd\n",
    "import os\n",
    "from PIL import Image\n",
    "from torchvision import transforms"
   ]
  },
  {
   "cell_type": "code",
   "execution_count": 8,
   "metadata": {},
   "outputs": [],
   "source": [
    "dataset_dir = \"./mnist/\"\n",
    "metadata_file = \"mnist.csv\"\n",
    "metadata_path = os.path.join(dataset_dir, metadata_file)\n",
    "\n",
    "metadata = pd.read_csv(metadata_path)"
   ]
  },
  {
   "cell_type": "code",
   "execution_count": 9,
   "metadata": {},
   "outputs": [
    {
     "data": {
      "text/plain": [
       "'00000.png'"
      ]
     },
     "execution_count": 9,
     "metadata": {},
     "output_type": "execute_result"
    }
   ],
   "source": [
    "metadata[\"filename\"][0]"
   ]
  },
  {
   "cell_type": "code",
   "execution_count": 10,
   "metadata": {},
   "outputs": [
    {
     "ename": "KeyboardInterrupt",
     "evalue": "",
     "output_type": "error",
     "traceback": [
      "\u001b[0;31m---------------------------------------------------------------------------\u001b[0m",
      "\u001b[0;31mKeyboardInterrupt\u001b[0m                         Traceback (most recent call last)",
      "\u001b[1;32m/home/ubuntu/projects/diffusion_models/naive/run_mnist.ipynb Cell 6\u001b[0m line \u001b[0;36m6\n\u001b[1;32m      <a href='vscode-notebook-cell://ssh-remote%2Bec2-18-222-117-191.us-east-2.compute.amazonaws.com/home/ubuntu/projects/diffusion_models/naive/run_mnist.ipynb#W5sdnNjb2RlLXJlbW90ZQ%3D%3D?line=2'>3</a>\u001b[0m transform \u001b[39m=\u001b[39m transforms\u001b[39m.\u001b[39mToTensor()\n\u001b[1;32m      <a href='vscode-notebook-cell://ssh-remote%2Bec2-18-222-117-191.us-east-2.compute.amazonaws.com/home/ubuntu/projects/diffusion_models/naive/run_mnist.ipynb#W5sdnNjb2RlLXJlbW90ZQ%3D%3D?line=4'>5</a>\u001b[0m \u001b[39mfor\u001b[39;00m path \u001b[39min\u001b[39;00m metadata[\u001b[39m\"\u001b[39m\u001b[39mfilename\u001b[39m\u001b[39m\"\u001b[39m]:\n\u001b[0;32m----> <a href='vscode-notebook-cell://ssh-remote%2Bec2-18-222-117-191.us-east-2.compute.amazonaws.com/home/ubuntu/projects/diffusion_models/naive/run_mnist.ipynb#W5sdnNjb2RlLXJlbW90ZQ%3D%3D?line=5'>6</a>\u001b[0m     img \u001b[39m=\u001b[39m Image\u001b[39m.\u001b[39;49mopen(os\u001b[39m.\u001b[39;49mpath\u001b[39m.\u001b[39;49mjoin(dataset_dir, path))\n\u001b[1;32m      <a href='vscode-notebook-cell://ssh-remote%2Bec2-18-222-117-191.us-east-2.compute.amazonaws.com/home/ubuntu/projects/diffusion_models/naive/run_mnist.ipynb#W5sdnNjb2RlLXJlbW90ZQ%3D%3D?line=6'>7</a>\u001b[0m     tensor_image \u001b[39m=\u001b[39m transform(img)\n\u001b[1;32m      <a href='vscode-notebook-cell://ssh-remote%2Bec2-18-222-117-191.us-east-2.compute.amazonaws.com/home/ubuntu/projects/diffusion_models/naive/run_mnist.ipynb#W5sdnNjb2RlLXJlbW90ZQ%3D%3D?line=7'>8</a>\u001b[0m     images\u001b[39m.\u001b[39mappend(tensor_image)\n",
      "File \u001b[0;32m/opt/conda/envs/pytorch/lib/python3.10/site-packages/PIL/Image.py:3227\u001b[0m, in \u001b[0;36mopen\u001b[0;34m(fp, mode, formats)\u001b[0m\n\u001b[1;32m   3224\u001b[0m     fp \u001b[39m=\u001b[39m io\u001b[39m.\u001b[39mBytesIO(fp\u001b[39m.\u001b[39mread())\n\u001b[1;32m   3225\u001b[0m     exclusive_fp \u001b[39m=\u001b[39m \u001b[39mTrue\u001b[39;00m\n\u001b[0;32m-> 3227\u001b[0m prefix \u001b[39m=\u001b[39m fp\u001b[39m.\u001b[39;49mread(\u001b[39m16\u001b[39;49m)\n\u001b[1;32m   3229\u001b[0m preinit()\n\u001b[1;32m   3231\u001b[0m accept_warnings \u001b[39m=\u001b[39m []\n",
      "\u001b[0;31mKeyboardInterrupt\u001b[0m: "
     ]
    }
   ],
   "source": [
    "# create a tensor with all the images\n",
    "images = []\n",
    "transform = transforms.ToTensor()\n",
    "\n",
    "for path in metadata[\"filename\"]:\n",
    "    img = Image.open(os.path.join(dataset_dir, path))\n",
    "    tensor_image = transform(img)\n",
    "    images.append(tensor_image)\n",
    "\n",
    "all_images = torch.stack(images)"
   ]
  },
  {
   "cell_type": "code",
   "execution_count": null,
   "metadata": {},
   "outputs": [
    {
     "data": {
      "text/plain": [
       "torch.Size([70000, 1, 28, 28])"
      ]
     },
     "execution_count": 56,
     "metadata": {},
     "output_type": "execute_result"
    }
   ],
   "source": [
    "all_images.size()"
   ]
  },
  {
   "cell_type": "code",
   "execution_count": null,
   "metadata": {},
   "outputs": [],
   "source": [
    "# normalize the all_images tensor to have zero mean and 1 std dev\n",
    "all_images = all_images.float()\n",
    "mean = all_images.mean()\n",
    "std = all_images.std()\n",
    "all_images = (all_images - mean) / std"
   ]
  },
  {
   "cell_type": "code",
   "execution_count": null,
   "metadata": {},
   "outputs": [
    {
     "name": "stdout",
     "output_type": "stream",
     "text": [
      "mean: 0.13092535734176636, std: 0.30844852328300476\n"
     ]
    }
   ],
   "source": [
    "print(f\"mean: {mean}, std: {std}\")"
   ]
  },
  {
   "cell_type": "code",
   "execution_count": null,
   "metadata": {},
   "outputs": [],
   "source": [
    "import torch.nn.functional as F"
   ]
  },
  {
   "cell_type": "code",
   "execution_count": null,
   "metadata": {},
   "outputs": [],
   "source": [
    "# upsample the images to 32x32\n",
    "upsampled_images = F.interpolate(all_images, size=32)"
   ]
  },
  {
   "cell_type": "code",
   "execution_count": null,
   "metadata": {},
   "outputs": [
    {
     "data": {
      "text/plain": [
       "torch.Size([70000, 1, 32, 32])"
      ]
     },
     "execution_count": 61,
     "metadata": {},
     "output_type": "execute_result"
    }
   ],
   "source": [
    "upsampled_images.size()"
   ]
  },
  {
   "cell_type": "markdown",
   "metadata": {},
   "source": [
    "# Inference"
   ]
  },
  {
   "cell_type": "code",
   "execution_count": null,
   "metadata": {},
   "outputs": [],
   "source": [
    "from src.model import Unet"
   ]
  },
  {
   "cell_type": "code",
   "execution_count": null,
   "metadata": {},
   "outputs": [],
   "source": [
    "device = torch.device(\"cuda\" if torch.cuda.is_available() else \"cpu\")"
   ]
  },
  {
   "cell_type": "code",
   "execution_count": null,
   "metadata": {},
   "outputs": [
    {
     "data": {
      "text/plain": [
       "Unet(\n",
       "  (learnable_embedding_block): Sequential(\n",
       "    (0): Linear(in_features=256, out_features=256, bias=True)\n",
       "    (1): SiLU()\n",
       "    (2): Linear(in_features=256, out_features=256, bias=True)\n",
       "  )\n",
       "  (initial_conv): Conv2d(1, 16, kernel_size=(3, 3), stride=(1, 1), padding=(1, 1))\n",
       "  (downblocks): ModuleList(\n",
       "    (0): Resnet(\n",
       "      (pre_timestep_block): Sequential(\n",
       "        (0): GroupNorm(4, 16, eps=1e-05, affine=True)\n",
       "        (1): SiLU()\n",
       "        (2): Dropout(p=0.1, inplace=False)\n",
       "        (3): Conv2d(16, 32, kernel_size=(3, 3), stride=(1, 1), padding=(1, 1))\n",
       "      )\n",
       "      (timestep_block): Sequential(\n",
       "        (0): GroupNorm(4, 256, eps=1e-05, affine=True)\n",
       "        (1): Linear(in_features=256, out_features=32, bias=True)\n",
       "      )\n",
       "      (post_timestep_block): Sequential(\n",
       "        (0): GroupNorm(4, 32, eps=1e-05, affine=True)\n",
       "        (1): SiLU()\n",
       "        (2): Dropout(p=0.1, inplace=False)\n",
       "        (3): Conv2d(32, 32, kernel_size=(3, 3), stride=(1, 1), padding=(1, 1))\n",
       "      )\n",
       "      (identity_conv): Conv2d(16, 32, kernel_size=(1, 1), stride=(1, 1))\n",
       "    )\n",
       "    (1): Downsample(\n",
       "      (conv): Conv2d(32, 32, kernel_size=(3, 3), stride=(2, 2), padding=(1, 1))\n",
       "    )\n",
       "    (2): Resnet(\n",
       "      (pre_timestep_block): Sequential(\n",
       "        (0): GroupNorm(4, 32, eps=1e-05, affine=True)\n",
       "        (1): SiLU()\n",
       "        (2): Dropout(p=0.1, inplace=False)\n",
       "        (3): Conv2d(32, 64, kernel_size=(3, 3), stride=(1, 1), padding=(1, 1))\n",
       "      )\n",
       "      (timestep_block): Sequential(\n",
       "        (0): GroupNorm(4, 256, eps=1e-05, affine=True)\n",
       "        (1): Linear(in_features=256, out_features=64, bias=True)\n",
       "      )\n",
       "      (post_timestep_block): Sequential(\n",
       "        (0): GroupNorm(4, 64, eps=1e-05, affine=True)\n",
       "        (1): SiLU()\n",
       "        (2): Dropout(p=0.1, inplace=False)\n",
       "        (3): Conv2d(64, 64, kernel_size=(3, 3), stride=(1, 1), padding=(1, 1))\n",
       "      )\n",
       "      (identity_conv): Conv2d(32, 64, kernel_size=(1, 1), stride=(1, 1))\n",
       "    )\n",
       "    (3): Downsample(\n",
       "      (conv): Conv2d(64, 64, kernel_size=(3, 3), stride=(2, 2), padding=(1, 1))\n",
       "    )\n",
       "    (4): Resnet(\n",
       "      (pre_timestep_block): Sequential(\n",
       "        (0): GroupNorm(4, 64, eps=1e-05, affine=True)\n",
       "        (1): SiLU()\n",
       "        (2): Dropout(p=0.1, inplace=False)\n",
       "        (3): Conv2d(64, 128, kernel_size=(3, 3), stride=(1, 1), padding=(1, 1))\n",
       "      )\n",
       "      (timestep_block): Sequential(\n",
       "        (0): GroupNorm(4, 256, eps=1e-05, affine=True)\n",
       "        (1): Linear(in_features=256, out_features=128, bias=True)\n",
       "      )\n",
       "      (post_timestep_block): Sequential(\n",
       "        (0): GroupNorm(4, 128, eps=1e-05, affine=True)\n",
       "        (1): SiLU()\n",
       "        (2): Dropout(p=0.1, inplace=False)\n",
       "        (3): Conv2d(128, 128, kernel_size=(3, 3), stride=(1, 1), padding=(1, 1))\n",
       "      )\n",
       "      (identity_conv): Conv2d(64, 128, kernel_size=(1, 1), stride=(1, 1))\n",
       "    )\n",
       "    (5): Downsample(\n",
       "      (conv): Conv2d(128, 128, kernel_size=(3, 3), stride=(2, 2), padding=(1, 1))\n",
       "    )\n",
       "    (6): Resnet(\n",
       "      (pre_timestep_block): Sequential(\n",
       "        (0): GroupNorm(4, 128, eps=1e-05, affine=True)\n",
       "        (1): SiLU()\n",
       "        (2): Dropout(p=0.1, inplace=False)\n",
       "        (3): Conv2d(128, 128, kernel_size=(3, 3), stride=(1, 1), padding=(1, 1))\n",
       "      )\n",
       "      (timestep_block): Sequential(\n",
       "        (0): GroupNorm(4, 256, eps=1e-05, affine=True)\n",
       "        (1): Linear(in_features=256, out_features=128, bias=True)\n",
       "      )\n",
       "      (post_timestep_block): Sequential(\n",
       "        (0): GroupNorm(4, 128, eps=1e-05, affine=True)\n",
       "        (1): SiLU()\n",
       "        (2): Dropout(p=0.1, inplace=False)\n",
       "        (3): Conv2d(128, 128, kernel_size=(3, 3), stride=(1, 1), padding=(1, 1))\n",
       "      )\n",
       "    )\n",
       "  )\n",
       "  (attn): MultiheadAttention(\n",
       "    (out_proj): NonDynamicallyQuantizableLinear(in_features=128, out_features=128, bias=True)\n",
       "  )\n",
       "  (upblocks): ModuleList(\n",
       "    (0-1): 2 x Resnet(\n",
       "      (pre_timestep_block): Sequential(\n",
       "        (0): GroupNorm(4, 128, eps=1e-05, affine=True)\n",
       "        (1): SiLU()\n",
       "        (2): Dropout(p=0.1, inplace=False)\n",
       "        (3): Conv2d(128, 128, kernel_size=(3, 3), stride=(1, 1), padding=(1, 1))\n",
       "      )\n",
       "      (timestep_block): Sequential(\n",
       "        (0): GroupNorm(4, 256, eps=1e-05, affine=True)\n",
       "        (1): Linear(in_features=256, out_features=128, bias=True)\n",
       "      )\n",
       "      (post_timestep_block): Sequential(\n",
       "        (0): GroupNorm(4, 128, eps=1e-05, affine=True)\n",
       "        (1): SiLU()\n",
       "        (2): Dropout(p=0.1, inplace=False)\n",
       "        (3): Conv2d(128, 128, kernel_size=(3, 3), stride=(1, 1), padding=(1, 1))\n",
       "      )\n",
       "    )\n",
       "    (2): Upsample(\n",
       "      (conv): Conv2d(128, 64, kernel_size=(3, 3), stride=(1, 1), padding=(1, 1))\n",
       "    )\n",
       "    (3): Resnet(\n",
       "      (pre_timestep_block): Sequential(\n",
       "        (0): GroupNorm(4, 64, eps=1e-05, affine=True)\n",
       "        (1): SiLU()\n",
       "        (2): Dropout(p=0.1, inplace=False)\n",
       "        (3): Conv2d(64, 64, kernel_size=(3, 3), stride=(1, 1), padding=(1, 1))\n",
       "      )\n",
       "      (timestep_block): Sequential(\n",
       "        (0): GroupNorm(4, 256, eps=1e-05, affine=True)\n",
       "        (1): Linear(in_features=256, out_features=64, bias=True)\n",
       "      )\n",
       "      (post_timestep_block): Sequential(\n",
       "        (0): GroupNorm(4, 64, eps=1e-05, affine=True)\n",
       "        (1): SiLU()\n",
       "        (2): Dropout(p=0.1, inplace=False)\n",
       "        (3): Conv2d(64, 64, kernel_size=(3, 3), stride=(1, 1), padding=(1, 1))\n",
       "      )\n",
       "    )\n",
       "    (4): Upsample(\n",
       "      (conv): Conv2d(64, 32, kernel_size=(3, 3), stride=(1, 1), padding=(1, 1))\n",
       "    )\n",
       "    (5): Resnet(\n",
       "      (pre_timestep_block): Sequential(\n",
       "        (0): GroupNorm(4, 32, eps=1e-05, affine=True)\n",
       "        (1): SiLU()\n",
       "        (2): Dropout(p=0.1, inplace=False)\n",
       "        (3): Conv2d(32, 32, kernel_size=(3, 3), stride=(1, 1), padding=(1, 1))\n",
       "      )\n",
       "      (timestep_block): Sequential(\n",
       "        (0): GroupNorm(4, 256, eps=1e-05, affine=True)\n",
       "        (1): Linear(in_features=256, out_features=32, bias=True)\n",
       "      )\n",
       "      (post_timestep_block): Sequential(\n",
       "        (0): GroupNorm(4, 32, eps=1e-05, affine=True)\n",
       "        (1): SiLU()\n",
       "        (2): Dropout(p=0.1, inplace=False)\n",
       "        (3): Conv2d(32, 32, kernel_size=(3, 3), stride=(1, 1), padding=(1, 1))\n",
       "      )\n",
       "    )\n",
       "    (6): Upsample(\n",
       "      (conv): Conv2d(32, 16, kernel_size=(3, 3), stride=(1, 1), padding=(1, 1))\n",
       "    )\n",
       "  )\n",
       "  (output_res): Resnet(\n",
       "    (pre_timestep_block): Sequential(\n",
       "      (0): GroupNorm(4, 16, eps=1e-05, affine=True)\n",
       "      (1): SiLU()\n",
       "      (2): Dropout(p=0.1, inplace=False)\n",
       "      (3): Conv2d(16, 64, kernel_size=(3, 3), stride=(1, 1), padding=(1, 1))\n",
       "    )\n",
       "    (timestep_block): Sequential(\n",
       "      (0): GroupNorm(4, 256, eps=1e-05, affine=True)\n",
       "      (1): Linear(in_features=256, out_features=64, bias=True)\n",
       "    )\n",
       "    (post_timestep_block): Sequential(\n",
       "      (0): GroupNorm(4, 64, eps=1e-05, affine=True)\n",
       "      (1): SiLU()\n",
       "      (2): Dropout(p=0.1, inplace=False)\n",
       "      (3): Conv2d(64, 64, kernel_size=(3, 3), stride=(1, 1), padding=(1, 1))\n",
       "    )\n",
       "    (identity_conv): Conv2d(16, 64, kernel_size=(1, 1), stride=(1, 1))\n",
       "  )\n",
       "  (output_conv): Conv2d(64, 1, kernel_size=(3, 3), stride=(1, 1), padding=(1, 1))\n",
       ")"
      ]
     },
     "execution_count": 11,
     "metadata": {},
     "output_type": "execute_result"
    }
   ],
   "source": [
    "model_pth = \"models/model_epoch_200.pth\"\n",
    "model = Unet(c_start=1)\n",
    "model.load_state_dict(torch.load(model_pth))\n",
    "model.cuda()\n",
    "model.eval()\n"
   ]
  },
  {
   "cell_type": "code",
   "execution_count": null,
   "metadata": {},
   "outputs": [],
   "source": [
    "from train import (\n",
    "    betas,\n",
    "    alphas,\n",
    "    T,\n",
    "    in_c,\n",
    "    in_h,\n",
    "    in_w,\n",
    ")"
   ]
  },
  {
   "cell_type": "code",
   "execution_count": null,
   "metadata": {},
   "outputs": [],
   "source": [
    "import torch.nn as nn\n",
    "\n",
    "\n",
    "def sample_next_step(\n",
    "    x_t: torch.Tensor,\n",
    "    t: torch.Tensor,\n",
    "    model: nn.Module,\n",
    ") -> torch.Tensor:\n",
    "    \"\"\"\n",
    "    sample x_{t-1} given x_t and x_0\n",
    "    \"\"\"\n",
    "    assert 2 <= t and t < T, f\"time index {t} must be in range [2, {T}]\"\n",
    "    beta_t = betas[t - 1]\n",
    "    alpha_t = alphas[t - 1]\n",
    "    alpha_t_1 = alphas[t - 2]\n",
    "\n",
    "    # conditional mean and variance\n",
    "    mu_t = (x_t - (beta_t / torch.sqrt(1 - alpha_t)) * model(x_t, t)) / torch.sqrt(\n",
    "        1 - beta_t\n",
    "    )\n",
    "    sigma_t = torch.sqrt((1 - alpha_t_1) / (1 - alpha_t) * beta_t)\n",
    "\n",
    "    return mu_t + sigma_t * torch.randn_like(mu_t)"
   ]
  },
  {
   "cell_type": "code",
   "execution_count": null,
   "metadata": {},
   "outputs": [],
   "source": [
    "import matplotlib.pyplot as plt"
   ]
  },
  {
   "cell_type": "code",
   "execution_count": null,
   "metadata": {},
   "outputs": [
    {
     "name": "stdout",
     "output_type": "stream",
     "text": [
      "foo\n",
      "final image\n"
     ]
    },
    {
     "data": {
      "image/png": "[encoded data removed]",
      "text/plain": [
       "<Figure size 640x480 with 1 Axes>"
      ]
     },
     "metadata": {},
     "output_type": "display_data"
    }
   ],
   "source": [
    "print(\"foo\")\n",
    "# generation for unconditional diffusion\n",
    "x_curr = torch.randn(1, in_c, in_h, in_w).to(device=device)\n",
    "\n",
    "for t in range(T - 1, 1, -1):\n",
    "    t = torch.tensor([[t]], dtype=torch.int, device=device)\n",
    "    x_curr = sample_next_step(x_curr, t, model)\n",
    "    #if (t - 2) % 200 == 0:\n",
    "    #    print(f\"image at t: {t}\")\n",
    "    #    plt.imshow(x_curr[0].permute(1, 2, 0).cpu().detach().numpy())\n",
    "    #    plt.show()\n",
    "\n",
    "print(\"final image\")\n",
    "plt.imshow(x_curr[0].permute(1, 2, 0).cpu().detach().numpy())\n",
    "plt.show()"
   ]
  },
  {
   "cell_type": "code",
   "execution_count": null,
   "metadata": {},
   "outputs": [],
   "source": [
    "beta_1: float = 1e-4\n",
    "beta_T: float = 0.02\n",
    "def get_beta_t(t: int) -> float:\n",
    "    assert 1 <= t and t <= T, f\"time index {t} must be in range [1, {T}]\"\n",
    "    return (beta_1 * (T - t) + beta_T * (t - 1)) / (T - 1)\n",
    "\n",
    "betas: torch.Tensor = torch.Tensor([get_beta_t(t) for t in range(1, T + 1)])\n",
    "alphas: torch.Tensor = torch.cumprod(1 - betas, dim=0)\n",
    "betas = betas.to(device=device)\n",
    "alphas = alphas.to(device=device)"
   ]
  },
  {
   "cell_type": "code",
   "execution_count": null,
   "metadata": {},
   "outputs": [
    {
     "name": "stdout",
     "output_type": "stream",
     "text": [
      "betas size: torch.Size([1000])\n",
      "alphas size: torch.Size([1000])\n"
     ]
    }
   ],
   "source": [
    "print(f\"betas size: {betas.size()}\")\n",
    "print(f\"alphas size: {alphas.size()}\")"
   ]
  },
  {
   "cell_type": "code",
   "execution_count": null,
   "metadata": {},
   "outputs": [],
   "source": [
    "t = torch.tensor([[2], [3]], dtype=torch.int).to(device=device)"
   ]
  },
  {
   "cell_type": "code",
   "execution_count": null,
   "metadata": {},
   "outputs": [
    {
     "data": {
      "text/plain": [
       "torch.Size([2, 1])"
      ]
     },
     "execution_count": 33,
     "metadata": {},
     "output_type": "execute_result"
    }
   ],
   "source": [
    "betas[t].size()"
   ]
  },
  {
   "cell_type": "code",
   "execution_count": null,
   "metadata": {},
   "outputs": [
    {
     "name": "stdout",
     "output_type": "stream",
     "text": [
      "x_t: torch.Size([1, 1, 32, 32])\n",
      "noise_pred: torch.Size([1, 1, 32, 32])\n"
     ]
    }
   ],
   "source": [
    "x_t = torch.randn(1, in_c, in_h, in_w).to(device=device)\n",
    "print(f\"x_t: {x_t.size()}\")\n",
    "t = torch.tensor([[999]], dtype=torch.int).cuda()\n",
    "\n",
    "beta_t = betas[t - 1]\n",
    "alpha_t = alphas[t - 1]\n",
    "alpha_t_1 = alphas[t - 2]\n",
    "\n",
    "noise_pred = model(x_t, t)\n",
    "print(f\"noise_pred: {noise_pred.size()}\")\n",
    "# conditional mean and variance\n",
    "mu_t = (x_t - (beta_t / torch.sqrt(1 - alpha_t)) * model(x_t, t)) / torch.sqrt(\n",
    "    1 - beta_t\n",
    ")\n",
    "sigma_t = torch.sqrt((1 - alpha_t_1) / (1 - alpha_t) * beta_t)\n",
    "\n",
    "x_prev = mu_t + sigma_t * torch.randn_like(mu_t)"
   ]
  },
  {
   "cell_type": "code",
   "execution_count": null,
   "metadata": {},
   "outputs": [],
   "source": [
    "losses = np.load(\"losses/train_losses.npy\")"
   ]
  },
  {
   "cell_type": "code",
   "execution_count": null,
   "metadata": {},
   "outputs": [
    {
     "data": {
      "text/plain": [
       "[<matplotlib.lines.Line2D at 0x7f915d56b3d0>]"
      ]
     },
     "execution_count": 71,
     "metadata": {},
     "output_type": "execute_result"
    },
    {
     "data": {
      "image/png": "[encoded data removed]",
      "text/plain": [
       "<Figure size 640x480 with 1 Axes>"
      ]
     },
     "metadata": {},
     "output_type": "display_data"
    }
   ],
   "source": [
    "plt.plot(averaged_losses[500:])"
   ]
  },
  {
   "cell_type": "code",
   "execution_count": null,
   "metadata": {},
   "outputs": [
    {
     "data": {
      "text/plain": [
       "218800"
      ]
     },
     "execution_count": 68,
     "metadata": {},
     "output_type": "execute_result"
    }
   ],
   "source": [
    "len(losses)"
   ]
  },
  {
   "cell_type": "code",
   "execution_count": null,
   "metadata": {},
   "outputs": [],
   "source": [
    "averaged_losses = np.mean(losses.reshape(-1, 100), axis=1)"
   ]
  },
  {
   "cell_type": "code",
   "execution_count": null,
   "metadata": {},
   "outputs": [],
   "source": []
  }
 ],
 "metadata": {
  "kernelspec": {
   "display_name": "Python 3",
   "language": "python",
   "name": "python3"
  },
  "language_info": {
   "codemirror_mode": {
    "name": "ipython",
    "version": 3
   },
   "file_extension": ".py",
   "mimetype": "text/x-python",
   "name": "python",
   "nbconvert_exporter": "python",
   "pygments_lexer": "ipython3",
   "version": "3.10.12"
  }
 },
 "nbformat": 4,
 "nbformat_minor": 2
}
